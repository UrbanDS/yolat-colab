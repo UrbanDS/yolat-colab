{
  "nbformat": 4,
  "nbformat_minor": 0,
  "metadata": {
    "colab": {
      "name": "semantic-segmentation-tree-trunk.ipynb",
      "provenance": [],
      "collapsed_sections": [],
      "mount_file_id": "1Akp3-2Ku1H8dssunMzuf8ad9Ydsu_qWW",
      "authorship_tag": "ABX9TyNV4miDV8GV3NuISjvsJkNe",
      "include_colab_link": true
    },
    "kernelspec": {
      "name": "python3",
      "display_name": "Python 3"
    },
    "accelerator": "GPU"
  },
  "cells": [
    {
      "cell_type": "markdown",
      "metadata": {
        "id": "view-in-github",
        "colab_type": "text"
      },
      "source": [
        "<a href=\"https://colab.research.google.com/github/divyachandana/yolat-colab/blob/master/semantic_segmentation_tree_trunk.ipynb\" target=\"_parent\"><img src=\"https://colab.research.google.com/assets/colab-badge.svg\" alt=\"Open In Colab\"/></a>"
      ]
    },
    {
      "cell_type": "code",
      "metadata": {
        "id": "IhhbwPEoLQB1",
        "colab_type": "code",
        "outputId": "e4683584-b69b-480c-9a6c-26d76fbf68c5",
        "colab": {
          "base_uri": "https://localhost:8080/",
          "height": 153
        }
      },
      "source": [
        "!git clone https://github.com/divyachandana/yolact.git"
      ],
      "execution_count": 1,
      "outputs": [
        {
          "output_type": "stream",
          "text": [
            "Cloning into 'yolact'...\n",
            "remote: Enumerating objects: 72, done.\u001b[K\n",
            "remote: Counting objects: 100% (72/72), done.\u001b[K\n",
            "remote: Compressing objects: 100% (53/53), done.\u001b[K\n",
            "remote: Total 1582 (delta 39), reused 49 (delta 19), pack-reused 1510\u001b[K\n",
            "Receiving objects: 100% (1582/1582), 271.37 MiB | 14.80 MiB/s, done.\n",
            "Resolving deltas: 100% (620/620), done.\n",
            "Checking out files: 100% (698/698), done.\n"
          ],
          "name": "stdout"
        }
      ]
    },
    {
      "cell_type": "code",
      "metadata": {
        "id": "gySoxSZhSO1d",
        "colab_type": "code",
        "colab": {}
      },
      "source": [
        "# !rm -rf yolact"
      ],
      "execution_count": 0,
      "outputs": []
    },
    {
      "cell_type": "code",
      "metadata": {
        "id": "Mo4nuy4cSMIF",
        "colab_type": "code",
        "outputId": "3ec64225-7fcd-4869-8529-32bd4c4b9300",
        "colab": {
          "base_uri": "https://localhost:8080/",
          "height": 34
        }
      },
      "source": [
        "%cd /content/yolact"
      ],
      "execution_count": 2,
      "outputs": [
        {
          "output_type": "stream",
          "text": [
            "/content/yolact\n"
          ],
          "name": "stdout"
        }
      ]
    },
    {
      "cell_type": "code",
      "metadata": {
        "id": "kObZyr1HSKoX",
        "colab_type": "code",
        "outputId": "be239a79-4800-4928-9bbc-60a94c45ea78",
        "colab": {
          "base_uri": "https://localhost:8080/",
          "height": 85
        }
      },
      "source": [
        "!ls"
      ],
      "execution_count": 7,
      "outputs": [
        {
          "output_type": "stream",
          "text": [
            "backbone.py\t eval.py   __pycache__\t     submit_task.sh  weights\n",
            "CHANGELOG.md\t external  README.md\t     train.py\t     yolact.py\n",
            "data\t\t layers    run_coco_eval.py  utils\n",
            "environment.yml  LICENSE   scripts\t     web\n"
          ],
          "name": "stdout"
        }
      ]
    },
    {
      "cell_type": "code",
      "metadata": {
        "id": "dRVShUF-Sjq7",
        "colab_type": "code",
        "outputId": "a4e2d255-7646-46ec-d9af-984e06a0a35a",
        "colab": {
          "base_uri": "https://localhost:8080/",
          "height": 540
        }
      },
      "source": [
        "!python ./train.py --config=yolact_resnet50_cig_butts_config --batch_size=16 --save_folder=/content/drive/My\\ Drive/yolact/ --cuda=True --save_interval=2000 --validation_size=146 --validation_epoch=20 --resume=/content/drive/My\\ Drive/yolact/yolact_plus_resnet50_cig_butts_1037_28000.pth"
      ],
      "execution_count": 0,
      "outputs": [
        {
          "output_type": "stream",
          "text": [
            "Scaling parameters by 2.00 to account for a batch size of 16.\n",
            "loading annotations into memory...\n",
            "Done (t=0.01s)\n",
            "creating index...\n",
            "index created!\n",
            "--------------\n",
            "loading annotations into memory...\n",
            "Done (t=0.00s)\n",
            "creating index...\n",
            "index created!\n",
            "============\n",
            "/usr/local/lib/python3.6/dist-packages/torch/jit/_recursive.py:152: UserWarning: 'lat_layers' was found in ScriptModule constants,  but it is a non-constant submodule. Consider removing it.\n",
            "  \" but it is a non-constant {}. Consider removing it.\".format(name, hint))\n",
            "/usr/local/lib/python3.6/dist-packages/torch/jit/_recursive.py:152: UserWarning: 'pred_layers' was found in ScriptModule constants,  but it is a non-constant submodule. Consider removing it.\n",
            "  \" but it is a non-constant {}. Consider removing it.\".format(name, hint))\n",
            "/usr/local/lib/python3.6/dist-packages/torch/jit/_recursive.py:152: UserWarning: 'downsample_layers' was found in ScriptModule constants,  but it is a non-constant submodule. Consider removing it.\n",
            "  \" but it is a non-constant {}. Consider removing it.\".format(name, hint))\n",
            "Resuming training, loading /content/drive/My Drive/yolact/yolact_plus_resnet50_cig_butts_1037_28000.pth...\n",
            "Begin training!\n",
            "\n",
            "[1037]   28000 || B: 0.383 | C: 0.471 | M: 0.100 | S: 0.011 | T: 0.965 || ETA: 0:00:00 || timer: 10.255\n",
            "[1037]   28010 || B: 0.498 | C: 0.440 | M: 0.064 | S: 0.007 | T: 1.010 || ETA: 12 days, 0:59:10 || timer: 2.567\n",
            "[1037]   28020 || B: 0.492 | C: 0.420 | M: 0.069 | S: 0.007 | T: 0.988 || ETA: 11 days, 16:22:45 || timer: 2.523\n",
            "[1038]   28030 || B: 0.506 | C: 0.442 | M: 0.069 | S: 0.007 | T: 1.024 || ETA: 12 days, 13:13:49 || timer: 2.976\n",
            "[1038]   28040 || B: 0.496 | C: 0.440 | M: 0.071 | S: 0.007 | T: 1.013 || ETA: 12 days, 6:53:52 || timer: 2.611\n",
            "[1038]   28050 || B: 0.511 | C: 0.449 | M: 0.070 | S: 0.007 | T: 1.037 || ETA: 12 days, 1:34:42 || timer: 2.557\n",
            "[1039]   28060 || B: 0.507 | C: 0.451 | M: 0.071 | S: 0.007 | T: 1.036 || ETA: 12 days, 14:55:59 || timer: 2.726\n",
            "[1039]   28070 || B: 0.511 | C: 0.467 | M: 0.071 | S: 0.007 | T: 1.056 || ETA: 12 days, 11:26:51 || timer: 2.578\n"
          ],
          "name": "stdout"
        }
      ]
    },
    {
      "cell_type": "code",
      "metadata": {
        "id": "NcAA81SKNy9A",
        "colab_type": "code",
        "outputId": "776fe3de-c26c-4695-c0c5-31b309b531de",
        "colab": {
          "base_uri": "https://localhost:8080/",
          "height": 428
        }
      },
      "source": [
        "!python eval.py --config=yolact_resnet50_cig_butts_config --trained_model=/content/drive/My\\ Drive/yolact/yolact_plus_resnet50_cig_butts_1037_28000.pth --score_threshold=0.15 --top_k=15 --images=/content/yolact/data/testdata:/content/yolact/data/testdata/output"
      ],
      "execution_count": 6,
      "outputs": [
        {
          "output_type": "stream",
          "text": [
            "args.config yolact_resnet50_cig_butts_config\n",
            "/usr/local/lib/python3.6/dist-packages/torch/jit/_recursive.py:152: UserWarning: 'lat_layers' was found in ScriptModule constants,  but it is a non-constant submodule. Consider removing it.\n",
            "  \" but it is a non-constant {}. Consider removing it.\".format(name, hint))\n",
            "/usr/local/lib/python3.6/dist-packages/torch/jit/_recursive.py:152: UserWarning: 'pred_layers' was found in ScriptModule constants,  but it is a non-constant submodule. Consider removing it.\n",
            "  \" but it is a non-constant {}. Consider removing it.\".format(name, hint))\n",
            "/usr/local/lib/python3.6/dist-packages/torch/jit/_recursive.py:152: UserWarning: 'downsample_layers' was found in ScriptModule constants,  but it is a non-constant submodule. Consider removing it.\n",
            "  \" but it is a non-constant {}. Consider removing it.\".format(name, hint))\n",
            "Loading model... Done.\n",
            "\n",
            "/content/yolact/data/testdata/OmkAvY6IOPl8lswqvAsogQ_-75.728816_45.358543_0_147.41.jpg -> /content/yolact/data/testdata/output/OmkAvY6IOPl8lswqvAsogQ_-75.728816_45.358543_0_147.41.png\n",
            "/content/yolact/data/testdata/e.png -> /content/yolact/data/testdata/output/e.png\n",
            "/content/yolact/data/testdata/c.png -> /content/yolact/data/testdata/output/c.png\n",
            "/content/yolact/data/testdata/b.png -> /content/yolact/data/testdata/output/b.png\n",
            "Traceback (most recent call last):\n",
            "  File \"eval.py\", line 1105, in <module>\n",
            "    evaluate(net, dataset)\n",
            "  File \"eval.py\", line 885, in evaluate\n",
            "    evalimages(net, inp, out)\n",
            "  File \"eval.py\", line 623, in evalimages\n",
            "    evalimage(net, path, out_path)\n",
            "  File \"eval.py\", line 596, in evalimage\n",
            "    frame = torch.from_numpy(cv2.imread(path)).cuda().float()\n",
            "TypeError: expected np.ndarray (got NoneType)\n"
          ],
          "name": "stdout"
        }
      ]
    }
  ]
}